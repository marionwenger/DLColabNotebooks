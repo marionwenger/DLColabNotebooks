{
  "cells": [
    {
      "cell_type": "markdown",
      "metadata": {
        "id": "view-in-github",
        "colab_type": "text"
      },
      "source": [
        "<a href=\"https://colab.research.google.com/github/marionwenger/DLColabNotebooks/blob/main/notebooks/05_cnn_edge_lover.ipynb\" target=\"_parent\"><img src=\"https://colab.research.google.com/assets/colab-badge.svg\" alt=\"Open In Colab\"/></a>"
      ]
    },
    {
      "cell_type": "markdown",
      "metadata": {
        "id": "4K8Ug6ICkRtQ"
      },
      "source": [
        "# A simple CNN for the edge lover task\n",
        "\n",
        "In this notebook you train a very simple CNN with only 1 kernel to distinguish between images containing vertical and images containing horizontal stripes. To check what pattern is recognized by the learned kernel you will visualize the weights of the kernel as an image. You will see that the CNN learns a useful kernel (either a vertical or horiziontal bar). You can experiment with the code to check the influence of the kernel size, the activation function and the pooling method on the result.  \n",
        "\n",
        "\n",
        "**Dataset:** You work with an artficially generated dataset of greyscale images (50x50 pixel) with 10 vertical or horizontal bars. We want to classify them into whether an art lover, who only loves vertical strips, will like the image (y = 0) or not like the image (y = 1).  \n",
        "\n",
        "The idea of the notebook is that you try to understand the provided code by running it, checking the output and playing with it by slightly changing the code and rerunning it.  \n",
        "\n",
        "**Content:**\n",
        "* definig and generating the dataset X_train and X_val\n",
        "* visualize samples of the generated images\n",
        "* use keras to train a CNN with only one kernel (5x5 pixel)\n",
        "* visualize the weights of the learned kernel and interpret if it is useful\n",
        "* repeat the last two steps to check if the learned kernel is always the same\n",
        "\n"
      ]
    },
    {
      "cell_type": "markdown",
      "source": [
        "***Notes***\n",
        "\n",
        "Es ist Zufall, ob der Kernel selber zu einer horizontalen oder einer vertikalen Struktur wird, denn schlussendlich können beide optimalen Kernels (je mit einem perfekten horizontalen oder vertikalen Übergang) die Unterscheidung genau gleich gut machen. Denn horziontal ist gleich nicht vertikal mathematisch gesehen...\n"
      ],
      "metadata": {
        "id": "kKEZ9ssViTL6"
      }
    },
    {
      "cell_type": "markdown",
      "metadata": {
        "id": "eiB8bJNYn8oP"
      },
      "source": [
        "### Imports\n",
        "\n",
        "In the next cell, we load all the required libraries."
      ]
    },
    {
      "cell_type": "code",
      "execution_count": 1,
      "metadata": {
        "id": "2PDLAWRQ7iUB"
      },
      "outputs": [],
      "source": [
        "# load required libraries:\n",
        "import numpy as np\n",
        "import matplotlib.pyplot as plt\n",
        "%matplotlib inline\n",
        "plt.style.use('default')\n",
        "\n",
        "import tensorflow.keras\n",
        "from tensorflow.keras.models import Sequential\n",
        "from tensorflow.keras.layers import Dense, Convolution2D, MaxPooling2D, Flatten , Activation\n",
        "from tensorflow.keras.utils import to_categorical"
      ]
    },
    {
      "cell_type": "markdown",
      "metadata": {
        "id": "Oq0FNqcBpj23"
      },
      "source": [
        "### Defining functions to generate images\n",
        "\n",
        "Here we define the function to genere images with vertical and horizontal bars, the arguments of the functions are the size of the image and the number of bars you want to have. The bars are at random positions in the image with a random length. The image is black and white, meaning we have only two values for the pixels, 0 for black and 255 for white."
      ]
    },
    {
      "cell_type": "code",
      "execution_count": 2,
      "metadata": {
        "id": "nqVBlR8yAO9c"
      },
      "outputs": [],
      "source": [
        "#define function to generate image with shape (size, size, 1) with stripes\n",
        "def generate_image_with_bars(size, bar_nr, vertical = True):\n",
        "    img = np.zeros((size,size,1), dtype=\"uint8\")\n",
        "    for i in range(0,bar_nr):\n",
        "        x,y = np.random.randint(0,size,2)\n",
        "        l  = int(np.random.randint(y,size,1)[0])\n",
        "        if (vertical):\n",
        "            img[y:l,x,0]=255\n",
        "        else:\n",
        "            img[x,y:l,0]=255\n",
        "    return img"
      ]
    },
    {
      "cell_type": "markdown",
      "metadata": {
        "id": "bUmdGzQLdqzB"
      },
      "source": [
        "Let's have a look at the generated images. We choose a size of 50x50 pixels and set the number of bars in the image to 10."
      ]
    },
    {
      "cell_type": "code",
      "execution_count": 3,
      "metadata": {
        "id": "EccLz0FlXGuU",
        "outputId": "72741c9d-9e48-4735-af6d-a966f181a65b",
        "colab": {
          "base_uri": "https://localhost:8080/",
          "height": 345
        }
      },
      "outputs": [
        {
          "output_type": "display_data",
          "data": {
            "text/plain": [
              "<Figure size 800x800 with 2 Axes>"
            ],
            "image/png": "[encoded data removed]"
          },
          "metadata": {}
        }
      ],
      "source": [
        "# have a look on two generated images\n",
        "plt.figure(figsize=(8,8))\n",
        "plt.subplot(1,2,1)\n",
        "img=generate_image_with_bars(50,10, vertical=True)\n",
        "plt.imshow(img[:,:,0],cmap='gray')\n",
        "plt.subplot(1,2,2)\n",
        "img=generate_image_with_bars(50,10, vertical=False)\n",
        "plt.imshow(img[:,:,0],cmap='gray')\n",
        "plt.show()"
      ]
    },
    {
      "cell_type": "markdown",
      "metadata": {
        "id": "Y8gSwmyaevTk"
      },
      "source": [
        "### Make a train and validation dataset of images with vertical and horizontal images\n",
        "Now, let's make a train dataset *X_train* with 1000 images (500 images with vertical and 500 images with horizontal bars). We normalize the images values to be between 0 and 1 by dividing all values with 255. We create a secont dataste *X_val* with exactly the same properties to validate the training of the CNN."
      ]
    },
    {
      "cell_type": "code",
      "execution_count": 4,
      "metadata": {
        "id": "63omuptEILKu"
      },
      "outputs": [],
      "source": [
        "pixel=50  # define height and width of images\n",
        "num_images_train = 1000 #Number of training examples (divisible by 2)\n",
        "num_images_val = 1000 #Number of training examples (divisible by 2)\n",
        "\n",
        "# generate training data with vertical edges\n",
        "X_train =np.zeros((num_images_train,pixel,pixel,1))\n",
        "for i in range(0, num_images_train//2):\n",
        "    X_train[i]=generate_image_with_bars(pixel,10)\n",
        "# ... with horizontal\n",
        "for i in range(num_images_train//2, num_images_train):\n",
        "    X_train[i]=generate_image_with_bars(pixel,10, vertical=False)\n",
        "\n",
        "# generate validation data with vertical edges\n",
        "X_val =np.zeros((num_images_train,pixel,pixel,1))\n",
        "for i in range(0, num_images_train//2):\n",
        "    X_val[i]=generate_image_with_bars(pixel,10)\n",
        "# ... with horizontal\n",
        "for i in range(num_images_train//2, num_images_train):\n",
        "    X_val[i]=generate_image_with_bars(pixel,10, vertical=False)"
      ]
    },
    {
      "cell_type": "code",
      "execution_count": 5,
      "metadata": {
        "id": "oBQjP6pZxMfa",
        "outputId": "4be466bb-4b79-49be-e6eb-ac51b8e61db2",
        "colab": {
          "base_uri": "https://localhost:8080/"
        }
      },
      "outputs": [
        {
          "output_type": "stream",
          "name": "stdout",
          "text": [
            "(1000, 50, 50, 1)\n",
            "(1000, 50, 50, 1)\n"
          ]
        }
      ],
      "source": [
        "# normalize the data to be between 0 and 1\n",
        "X_train=X_train/255\n",
        "X_val=X_val/255\n",
        "\n",
        "print(X_train.shape)\n",
        "print(X_val.shape)"
      ]
    },
    {
      "cell_type": "markdown",
      "metadata": {
        "id": "ajNnUoYyi7IQ"
      },
      "source": [
        "Here we make the labels for the art lover, 0 means he likes the image (vertical bars) and 1 means that he doesn't like it (horizontal stripes). We one hot encode the labels because we want to use two outputs in our network."
      ]
    },
    {
      "cell_type": "code",
      "execution_count": 6,
      "metadata": {
        "id": "41-L5hM8S_ZP",
        "outputId": "c06470f0-e2f1-415e-c7e8-fa582a8737b6",
        "colab": {
          "base_uri": "https://localhost:8080/"
        }
      },
      "outputs": [
        {
          "output_type": "stream",
          "name": "stdout",
          "text": [
            "0\n",
            "0\n",
            "0\n",
            "0\n",
            "[1 1 1 1 1 1 1 1 1 1]\n"
          ]
        }
      ],
      "source": [
        "# create class labels\n",
        "y = np.array([[0],[1]])\n",
        "Y_train = np.repeat(y, num_images_train //2)\n",
        "Y_val = np.repeat(y, num_images_train //2)\n",
        "# verstehe nicht wieso hier 0, 1, 0, 1 etc. gesetzt werden kann als Ergebnis...\n",
        "# vielleicht deswegen?:\n",
        "# die erste Hälfte der Bilder sind vertikal (1), die zweite horizontal(0), siehe oben\n",
        "# ... kann nicht sein, die 0 kommt oben zuerst...\n",
        "\n",
        "print(Y_train[0])\n",
        "print(Y_train[1])\n",
        "print(Y_train[2])\n",
        "print(Y_train[3])\n",
        "len(Y_train) # 1000\n",
        "print(Y_train[500:510])\n",
        "\n",
        "# es stimmt schon, weil in der ersten Hälft tatsächlich nur 0 gesetzt werden und in der zweiten nur 1\n",
        "# 0 zu Beginn ist auch gut, weil the art lovers does like (0) the vertical bars (1)"
      ]
    },
    {
      "cell_type": "code",
      "source": [
        "# one-hot-encoding\n",
        "Y_train = to_categorical(Y_train,2)\n",
        "Y_val = to_categorical(Y_val,2)"
      ],
      "metadata": {
        "id": "M1EdOppzngud"
      },
      "execution_count": 7,
      "outputs": []
    },
    {
      "cell_type": "markdown",
      "metadata": {
        "id": "uZpr0h-VvatF"
      },
      "source": [
        "## Defining the CNN\n",
        "\n",
        "Here we define the CNN:\n",
        "\n",
        "- we use only one kernel with a size of 5x5 pixels  \n",
        "- then we apply a linar activation function  \n",
        "- the maxpooling layer takes the maximum of the whole activation map to predict the probability (output layer with softmax) if the art lover will like the image\n",
        "\n",
        "As loss we use the categorical_crossentropy and we train the model with a batchsize of 64 images per update.\n"
      ]
    },
    {
      "cell_type": "code",
      "execution_count": 8,
      "metadata": {
        "id": "1Dfg1h2rUifd"
      },
      "outputs": [],
      "source": [
        "model = Sequential()\n",
        "\n",
        "model.add(Convolution2D(1,(5,5),padding='same',input_shape=(pixel,pixel,1)))\n",
        "model.add(Activation('linear'))\n",
        "\n",
        "# take the max over all values in the activation map\n",
        "model.add(MaxPooling2D(pool_size=(pixel,pixel)))\n",
        "model.add(Flatten())\n",
        "model.add(Dense(2))\n",
        "model.add(Activation('softmax'))\n",
        "\n",
        "# compile model and initialize weights\n",
        "model.compile(loss='categorical_crossentropy',\n",
        "              optimizer='adam',\n",
        "              metrics=['accuracy'])\n"
      ]
    },
    {
      "cell_type": "code",
      "execution_count": 9,
      "metadata": {
        "id": "r6eqV0TRU0_n",
        "outputId": "ec224bf4-eb54-4115-9145-325c017d5c80",
        "colab": {
          "base_uri": "https://localhost:8080/"
        }
      },
      "outputs": [
        {
          "output_type": "stream",
          "name": "stdout",
          "text": [
            "Model: \"sequential\"\n",
            "_________________________________________________________________\n",
            " Layer (type)                Output Shape              Param #   \n",
            "=================================================================\n",
            " conv2d (Conv2D)             (None, 50, 50, 1)         26        \n",
            "                                                                 \n",
            " activation (Activation)     (None, 50, 50, 1)         0         \n",
            "                                                                 \n",
            " max_pooling2d (MaxPooling2  (None, 1, 1, 1)           0         \n",
            " D)                                                              \n",
            "                                                                 \n",
            " flatten (Flatten)           (None, 1)                 0         \n",
            "                                                                 \n",
            " dense (Dense)               (None, 2)                 4         \n",
            "                                                                 \n",
            " activation_1 (Activation)   (None, 2)                 0         \n",
            "                                                                 \n",
            "=================================================================\n",
            "Total params: 30 (120.00 Byte)\n",
            "Trainable params: 30 (120.00 Byte)\n",
            "Non-trainable params: 0 (0.00 Byte)\n",
            "_________________________________________________________________\n"
          ]
        }
      ],
      "source": [
        "# let's summarize the CNN architectures along with the number of model weights\n",
        "model.summary()\n",
        "# nur 26 Parameter, weil auf jeden 5x5 des Inputs dieselben Gewichte des Kernels angewendet werden\n",
        "# also spielt die Grösse des Inputes, bzw.hier des Bildes 50x50 diesmal keine Rolle bei der Anzahl Parameter..."
      ]
    },
    {
      "cell_type": "code",
      "execution_count": 10,
      "metadata": {
        "id": "Sc-BYd8kVCx0",
        "scrolled": false
      },
      "outputs": [],
      "source": [
        "# train the model\n",
        "history=model.fit(X_train, Y_train,\n",
        "                  validation_data=(X_val,Y_val),\n",
        "                  batch_size=64,\n",
        "                  epochs=150,\n",
        "                  verbose=0) #1)"
      ]
    },
    {
      "cell_type": "code",
      "execution_count": 11,
      "metadata": {
        "id": "fK_AAAoiQtlc",
        "outputId": "15ee2189-4967-4e7c-8950-11dbdc416547",
        "colab": {
          "base_uri": "https://localhost:8080/",
          "height": 410
        }
      },
      "outputs": [
        {
          "output_type": "display_data",
          "data": {
            "text/plain": [
              "<Figure size 1200x400 with 2 Axes>"
            ],
            "image/png": "[encoded data removed]"
          },
          "metadata": {}
        }
      ],
      "source": [
        "# plot the development of the accuracy and loss during training\n",
        "plt.figure(figsize=(12,4))\n",
        "plt.subplot(1,2,(1))\n",
        "plt.plot(history.history['accuracy'],linestyle='-.')\n",
        "plt.plot(history.history['val_accuracy'])\n",
        "plt.title('model accuracy')\n",
        "plt.ylabel('accuracy')\n",
        "plt.xlabel('epoch')\n",
        "plt.legend(['train', 'valid'], loc='lower right')\n",
        "plt.subplot(1,2,(2))\n",
        "plt.plot(history.history['loss'],linestyle='-.')\n",
        "plt.plot(history.history['val_loss'])\n",
        "plt.title('model loss')\n",
        "plt.ylabel('loss')\n",
        "plt.xlabel('epoch')\n",
        "plt.legend(['train', 'valid'], loc='upper right');"
      ]
    },
    {
      "cell_type": "markdown",
      "metadata": {
        "id": "uOwR3Esbw8eN"
      },
      "source": [
        "### Visualize the learned kernel and experiment with the code\n",
        "\n",
        "You see that the CNN performs very good at this task (100% accuracy). We can check which pattern is recognized by the **learned kernel** and see if you think that this is helpful to distinguish between images with horizontal and vertical edges.\n",
        "\n",
        "Below you can see the original image, the image after the convolution operation with the learned kernel and the maximum value from the maxpooling operation. Note that the maxpooling has the same size as the convolved image so there is just one value as output.\n",
        "\n",
        "\n",
        "Move the sliders to inspect different pictures from the validation set and their predictions\n"
      ]
    },
    {
      "cell_type": "code",
      "execution_count": 14,
      "metadata": {
        "id": "pl1yuAddVRnE"
      },
      "outputs": [],
      "source": [
        "## Do not worry about this cell, just move the sliders.\n",
        "import scipy.signal\n",
        "from skimage.measure import block_reduce  # For max pooling\n",
        "import ipywidgets as widgets\n",
        "\n",
        "def scale_convolution_map(conv_map, min_val=-3, max_val=3):\n",
        "    clipped_conv_map = np.clip(conv_map, min_val, max_val)\n",
        "    scaled_conv_map = (clipped_conv_map - min_val) / (max_val - min_val)\n",
        "    return scaled_conv_map\n",
        "\n",
        "def plot_conv(img,category):\n",
        "  convolved_image = scipy.signal.convolve2d(img.squeeze(), conv_filter.squeeze(), mode='same')\n",
        "  scaled_conv_image = scale_convolution_map(convolved_image + model.get_weights()[1])\n",
        "  max_pooled_image = block_reduce(convolved_image + model.get_weights()[1], block_size=(50, 50), func=np.max)\n",
        "  scaled_max_pooled_image = scale_convolution_map(max_pooled_image)\n",
        "\n",
        "  plt.figure(figsize=(20, 4))\n",
        "  plt.subplot(1, 6, 1)\n",
        "  plt.imshow(img, \"gray\", vmin=0, vmax=1),plt.title('Original Image')\n",
        "  plt.subplot(1, 6, 2)\n",
        "  plt.imshow(scaled_conv_image, \"gray\", vmin=0, vmax=1),plt.title('Convolved Image')\n",
        "  plt.subplot(1, 6, 3),plt.imshow(scaled_max_pooled_image, \"gray\", vmin=0, vmax=1)\n",
        "  plt.title(f'Max Pooled = {max_pooled_image[0][0]:.2f}'),plt.xticks([]), plt.yticks([])\n",
        "  plt.subplot(1, 6, 4),plt.axis('off')\n",
        "  pred = model.predict(img.reshape(1, 50, 50, 1), verbose=0)\n",
        "  if category==\"vertical\":\n",
        "    text_info = f'''\n",
        "    P(y=vertical|x): {pred[0][0]:.4f}\n",
        "    P(y=horizontal|x): {pred[0][1]:.4f}\n",
        "\n",
        "\n",
        "    loss component:  {-np.log(pred[0][0]):.4f}\n",
        "      '''\n",
        "  else:\n",
        "        text_info = f'''\n",
        "    P(y=vertical|x): {pred[0][0]:.4f}\n",
        "    P(y=horizontal|x): {pred[0][1]:.4f}\n",
        "\n",
        "\n",
        "    loss component:  {-np.log(pred[0][1]):.4f}\n",
        "      '''\n",
        "\n",
        "  plt.text(0, 0.5, text_info, ha='left', va='center')\n",
        "  plt.subplot(1, 6, 5)\n",
        "  x_values = np.linspace(0.001, 1.1, 500)\n",
        "  plt.plot(x_values, -np.log(x_values), label='-log(P(y|x))')\n",
        "  plt.ylim(-0.5, 6),plt.xlim(-0.1, 1.1),plt.xlabel('P(y|x)')\n",
        "  if category==\"vertical\":\n",
        "    plt.plot(pred[0][0], -np.log(pred[0][0]), 'bo', label='loss component')\n",
        "  else:\n",
        "    plt.plot(pred[0][1], -np.log(pred[0][1]), 'ro', label='loss component')\n",
        "\n",
        "  plt.legend(),plt.grid(True), plt.tight_layout(),plt.show()\n",
        "\n",
        "def inspect_preds(idx,category='vertical'):\n",
        "  plot_conv(X_val[idx,:,:,0],category)"
      ]
    },
    {
      "cell_type": "code",
      "execution_count": 15,
      "metadata": {
        "id": "u0nsidPShZny",
        "outputId": "78c6ea78-b4f3-48a3-99fd-1164b011be85",
        "colab": {
          "base_uri": "https://localhost:8080/",
          "height": 681,
          "referenced_widgets": [
            "64d65dbbc3b34662b280a75394406c07",
            "18aa5676f8414f1183848ac10f779ebf",
            "158d1203e2644eb1945a5c3ccda4d02a",
            "a350a5e824624ef4a0ffeab669288eba",
            "99925fd9f3094758be42e13389356bba",
            "71973dda1a1748dc824e0c58e68c05b9",
            "6ebf6ba66c8e4752b7853a6b87a44c5d"
          ]
        }
      },
      "outputs": [
        {
          "output_type": "display_data",
          "data": {
            "text/plain": [
              "<Figure size 1000x300 with 2 Axes>"
            ],
            "image/png": "[encoded data removed]"
          },
          "metadata": {}
        },
        {
          "output_type": "stream",
          "name": "stdout",
          "text": [
            "\n",
            "---------Move the sliders to inspect different vertical and horizontal images from the valset and their predictions:------------------\n",
            "\n"
          ]
        },
        {
          "output_type": "display_data",
          "data": {
            "text/plain": [
              "interactive(children=(IntSlider(value=0, description='vertical', max=499), Output()), _dom_classes=('widget-in…"
            ],
            "application/vnd.jupyter.widget-view+json": {
              "version_major": 2,
              "version_minor": 0,
              "model_id": "64d65dbbc3b34662b280a75394406c07"
            }
          },
          "metadata": {}
        }
      ],
      "source": [
        "plt.figure(figsize=(10, 3))\n",
        "plt.subplot(1, 2, 1)\n",
        "plt.imshow(np.random.rand(25).reshape(5, 5),\"gray\") ,plt.title('Randomly initalized weights')\n",
        "plt.subplot(1, 2, 2)\n",
        "conv_filter=np.squeeze(model.get_weights()[0], axis=2)\n",
        "plt.imshow(conv_filter[:,:,0],\"gray\"),plt.title('Learned Kernel (weights) , by model'),plt.show();\n",
        "print(\"\\n---------Move the sliders to inspect different vertical and horizontal images from the valset and their predictions:------------------\\n\")\n",
        "\n",
        "horizontal_slider = widgets.IntSlider(min=0, max=num_images_val//2-1, step=1, value=0, description='vertical')\n",
        "widgets.interact(inspect_preds, idx=horizontal_slider,category=widgets.fixed('vertical'));"
      ]
    },
    {
      "cell_type": "code",
      "execution_count": 16,
      "metadata": {
        "id": "ZrcOU7dbhZny",
        "outputId": "08a326a4-9143-4681-f7ea-1d692d367f76",
        "colab": {
          "base_uri": "https://localhost:8080/",
          "height": 309,
          "referenced_widgets": [
            "3839e4cded644bdeb760c27d3e011dbb",
            "40c7b253c7d04606b233eb8d1910ce53",
            "f1086117e0b64bef866831fe79e67ff2",
            "b356babb725941a0bb0f666c28f4df22",
            "f19c5c31a7284f3d8bded4ace8843f56",
            "bf9af5a431e24de4a7b435325028fbd4",
            "3783464edbfe456a9684e73357dcff66"
          ]
        }
      },
      "outputs": [
        {
          "output_type": "display_data",
          "data": {
            "text/plain": [
              "interactive(children=(IntSlider(value=500, description='horizontal', max=999, min=500), Output()), _dom_classe…"
            ],
            "application/vnd.jupyter.widget-view+json": {
              "version_major": 2,
              "version_minor": 0,
              "model_id": "3839e4cded644bdeb760c27d3e011dbb"
            }
          },
          "metadata": {}
        }
      ],
      "source": [
        "vertical_slider = widgets.IntSlider(min=num_images_val//2, max=num_images_val-1, step=1, value=0, description='horizontal')\n",
        "widgets.interact(inspect_preds, idx=vertical_slider,category=widgets.fixed('horizontal'));"
      ]
    },
    {
      "cell_type": "markdown",
      "metadata": {
        "id": "nkZW5YW4hZny"
      },
      "source": [
        "## Excercise 1\n",
        "\n",
        "Given the probabilities, please calculate the loss component for one example of the validation set."
      ]
    },
    {
      "cell_type": "code",
      "source": [],
      "metadata": {
        "id": "jsG1UxiBrYHB"
      },
      "execution_count": null,
      "outputs": []
    },
    {
      "cell_type": "markdown",
      "metadata": {
        "id": "U4gnnlAPp_Q2"
      },
      "source": [
        "## Excercise 2\n",
        "\n",
        "\n",
        "- Repeat the compiling and training, beginning from the cell:\n",
        "\n",
        "```\n",
        "model = Sequential()\n",
        "       \n",
        "       ...\n",
        "       \n",
        "model.compile(loss='categorical_crossentropy',\n",
        "              optimizer='adam',\n",
        "              metrics=['accuracy'])\n",
        "```\n",
        "\n",
        "for several times and check if the CNN always learns the same kernel.  \n",
        "\n",
        "## Additional Excercise\n",
        "\n",
        "- You can experiment with the code and check what happens if you use another kernel size, activation function (relu instead of linear ) or pooling method AveragePooling instead of MaxPooling.  Try to make a prediction on the performance before doing the experiment.\n",
        "\n",
        "\n"
      ]
    },
    {
      "cell_type": "code",
      "execution_count": null,
      "metadata": {
        "id": "fRlCUwpVoy69"
      },
      "outputs": [],
      "source": []
    }
  ],
  "metadata": {
    "accelerator": "GPU",
    "colab": {
      "provenance": [],
      "include_colab_link": true
    },
    "kernelspec": {
      "display_name": "Python 3 (ipykernel)",
      "language": "python",
      "name": "python3"
    },
    "language_info": {
      "codemirror_mode": {
        "name": "ipython",
        "version": 3
      },
      "file_extension": ".py",
      "mimetype": "text/x-python",
      "name": "python",
      "nbconvert_exporter": "python",
      "pygments_lexer": "ipython3",
      "version": "3.9.18"
    },
    "widgets": {
      "application/vnd.jupyter.widget-state+json": {
        "64d65dbbc3b34662b280a75394406c07": {
          "model_module": "@jupyter-widgets/controls",
          "model_name": "VBoxModel",
          "model_module_version": "1.5.0",
          "state": {
            "_dom_classes": [
              "widget-interact"
            ],
            "_model_module": "@jupyter-widgets/controls",
            "_model_module_version": "1.5.0",
            "_model_name": "VBoxModel",
            "_view_count": null,
            "_view_module": "@jupyter-widgets/controls",
            "_view_module_version": "1.5.0",
            "_view_name": "VBoxView",
            "box_style": "",
            "children": [
              "IPY_MODEL_18aa5676f8414f1183848ac10f779ebf",
              "IPY_MODEL_158d1203e2644eb1945a5c3ccda4d02a"
            ],
            "layout": "IPY_MODEL_a350a5e824624ef4a0ffeab669288eba"
          }
        },
        "18aa5676f8414f1183848ac10f779ebf": {
          "model_module": "@jupyter-widgets/controls",
          "model_name": "IntSliderModel",
          "model_module_version": "1.5.0",
          "state": {
            "_dom_classes": [],
            "_model_module": "@jupyter-widgets/controls",
            "_model_module_version": "1.5.0",
            "_model_name": "IntSliderModel",
            "_view_count": null,
            "_view_module": "@jupyter-widgets/controls",
            "_view_module_version": "1.5.0",
            "_view_name": "IntSliderView",
            "continuous_update": true,
            "description": "vertical",
            "description_tooltip": null,
            "disabled": false,
            "layout": "IPY_MODEL_99925fd9f3094758be42e13389356bba",
            "max": 499,
            "min": 0,
            "orientation": "horizontal",
            "readout": true,
            "readout_format": "d",
            "step": 1,
            "style": "IPY_MODEL_71973dda1a1748dc824e0c58e68c05b9",
            "value": 430
          }
        },
        "158d1203e2644eb1945a5c3ccda4d02a": {
          "model_module": "@jupyter-widgets/output",
          "model_name": "OutputModel",
          "model_module_version": "1.0.0",
          "state": {
            "_dom_classes": [],
            "_model_module": "@jupyter-widgets/output",
            "_model_module_version": "1.0.0",
            "_model_name": "OutputModel",
            "_view_count": null,
            "_view_module": "@jupyter-widgets/output",
            "_view_module_version": "1.0.0",
            "_view_name": "OutputView",
            "layout": "IPY_MODEL_6ebf6ba66c8e4752b7853a6b87a44c5d",
            "msg_id": "",
            "outputs": [
              {
                "output_type": "display_data",
                "data": {
                  "text/plain": "<Figure size 2000x400 with 5 Axes>",
                  "image/png": "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\n"
                },
                "metadata": {}
              }
            ]
          }
        },
        "a350a5e824624ef4a0ffeab669288eba": {
          "model_module": "@jupyter-widgets/base",
          "model_name": "LayoutModel",
          "model_module_version": "1.2.0",
          "state": {
            "_model_module": "@jupyter-widgets/base",
            "_model_module_version": "1.2.0",
            "_model_name": "LayoutModel",
            "_view_count": null,
            "_view_module": "@jupyter-widgets/base",
            "_view_module_version": "1.2.0",
            "_view_name": "LayoutView",
            "align_content": null,
            "align_items": null,
            "align_self": null,
            "border": null,
            "bottom": null,
            "display": null,
            "flex": null,
            "flex_flow": null,
            "grid_area": null,
            "grid_auto_columns": null,
            "grid_auto_flow": null,
            "grid_auto_rows": null,
            "grid_column": null,
            "grid_gap": null,
            "grid_row": null,
            "grid_template_areas": null,
            "grid_template_columns": null,
            "grid_template_rows": null,
            "height": null,
            "justify_content": null,
            "justify_items": null,
            "left": null,
            "margin": null,
            "max_height": null,
            "max_width": null,
            "min_height": null,
            "min_width": null,
            "object_fit": null,
            "object_position": null,
            "order": null,
            "overflow": null,
            "overflow_x": null,
            "overflow_y": null,
            "padding": null,
            "right": null,
            "top": null,
            "visibility": null,
            "width": null
          }
        },
        "99925fd9f3094758be42e13389356bba": {
          "model_module": "@jupyter-widgets/base",
          "model_name": "LayoutModel",
          "model_module_version": "1.2.0",
          "state": {
            "_model_module": "@jupyter-widgets/base",
            "_model_module_version": "1.2.0",
            "_model_name": "LayoutModel",
            "_view_count": null,
            "_view_module": "@jupyter-widgets/base",
            "_view_module_version": "1.2.0",
            "_view_name": "LayoutView",
            "align_content": null,
            "align_items": null,
            "align_self": null,
            "border": null,
            "bottom": null,
            "display": null,
            "flex": null,
            "flex_flow": null,
            "grid_area": null,
            "grid_auto_columns": null,
            "grid_auto_flow": null,
            "grid_auto_rows": null,
            "grid_column": null,
            "grid_gap": null,
            "grid_row": null,
            "grid_template_areas": null,
            "grid_template_columns": null,
            "grid_template_rows": null,
            "height": null,
            "justify_content": null,
            "justify_items": null,
            "left": null,
            "margin": null,
            "max_height": null,
            "max_width": null,
            "min_height": null,
            "min_width": null,
            "object_fit": null,
            "object_position": null,
            "order": null,
            "overflow": null,
            "overflow_x": null,
            "overflow_y": null,
            "padding": null,
            "right": null,
            "top": null,
            "visibility": null,
            "width": null
          }
        },
        "71973dda1a1748dc824e0c58e68c05b9": {
          "model_module": "@jupyter-widgets/controls",
          "model_name": "SliderStyleModel",
          "model_module_version": "1.5.0",
          "state": {
            "_model_module": "@jupyter-widgets/controls",
            "_model_module_version": "1.5.0",
            "_model_name": "SliderStyleModel",
            "_view_count": null,
            "_view_module": "@jupyter-widgets/base",
            "_view_module_version": "1.2.0",
            "_view_name": "StyleView",
            "description_width": "",
            "handle_color": null
          }
        },
        "6ebf6ba66c8e4752b7853a6b87a44c5d": {
          "model_module": "@jupyter-widgets/base",
          "model_name": "LayoutModel",
          "model_module_version": "1.2.0",
          "state": {
            "_model_module": "@jupyter-widgets/base",
            "_model_module_version": "1.2.0",
            "_model_name": "LayoutModel",
            "_view_count": null,
            "_view_module": "@jupyter-widgets/base",
            "_view_module_version": "1.2.0",
            "_view_name": "LayoutView",
            "align_content": null,
            "align_items": null,
            "align_self": null,
            "border": null,
            "bottom": null,
            "display": null,
            "flex": null,
            "flex_flow": null,
            "grid_area": null,
            "grid_auto_columns": null,
            "grid_auto_flow": null,
            "grid_auto_rows": null,
            "grid_column": null,
            "grid_gap": null,
            "grid_row": null,
            "grid_template_areas": null,
            "grid_template_columns": null,
            "grid_template_rows": null,
            "height": null,
            "justify_content": null,
            "justify_items": null,
            "left": null,
            "margin": null,
            "max_height": null,
            "max_width": null,
            "min_height": null,
            "min_width": null,
            "object_fit": null,
            "object_position": null,
            "order": null,
            "overflow": null,
            "overflow_x": null,
            "overflow_y": null,
            "padding": null,
            "right": null,
            "top": null,
            "visibility": null,
            "width": null
          }
        },
        "3839e4cded644bdeb760c27d3e011dbb": {
          "model_module": "@jupyter-widgets/controls",
          "model_name": "VBoxModel",
          "model_module_version": "1.5.0",
          "state": {
            "_dom_classes": [
              "widget-interact"
            ],
            "_model_module": "@jupyter-widgets/controls",
            "_model_module_version": "1.5.0",
            "_model_name": "VBoxModel",
            "_view_count": null,
            "_view_module": "@jupyter-widgets/controls",
            "_view_module_version": "1.5.0",
            "_view_name": "VBoxView",
            "box_style": "",
            "children": [
              "IPY_MODEL_40c7b253c7d04606b233eb8d1910ce53",
              "IPY_MODEL_f1086117e0b64bef866831fe79e67ff2"
            ],
            "layout": "IPY_MODEL_b356babb725941a0bb0f666c28f4df22"
          }
        },
        "40c7b253c7d04606b233eb8d1910ce53": {
          "model_module": "@jupyter-widgets/controls",
          "model_name": "IntSliderModel",
          "model_module_version": "1.5.0",
          "state": {
            "_dom_classes": [],
            "_model_module": "@jupyter-widgets/controls",
            "_model_module_version": "1.5.0",
            "_model_name": "IntSliderModel",
            "_view_count": null,
            "_view_module": "@jupyter-widgets/controls",
            "_view_module_version": "1.5.0",
            "_view_name": "IntSliderView",
            "continuous_update": true,
            "description": "horizontal",
            "description_tooltip": null,
            "disabled": false,
            "layout": "IPY_MODEL_f19c5c31a7284f3d8bded4ace8843f56",
            "max": 999,
            "min": 500,
            "orientation": "horizontal",
            "readout": true,
            "readout_format": "d",
            "step": 1,
            "style": "IPY_MODEL_bf9af5a431e24de4a7b435325028fbd4",
            "value": 500
          }
        },
        "f1086117e0b64bef866831fe79e67ff2": {
          "model_module": "@jupyter-widgets/output",
          "model_name": "OutputModel",
          "model_module_version": "1.0.0",
          "state": {
            "_dom_classes": [],
            "_model_module": "@jupyter-widgets/output",
            "_model_module_version": "1.0.0",
            "_model_name": "OutputModel",
            "_view_count": null,
            "_view_module": "@jupyter-widgets/output",
            "_view_module_version": "1.0.0",
            "_view_name": "OutputView",
            "layout": "IPY_MODEL_3783464edbfe456a9684e73357dcff66",
            "msg_id": "",
            "outputs": [
              {
                "output_type": "display_data",
                "data": {
                  "text/plain": "<Figure size 2000x400 with 5 Axes>",
                  "image/png": "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\n"
                },
                "metadata": {}
              }
            ]
          }
        },
        "b356babb725941a0bb0f666c28f4df22": {
          "model_module": "@jupyter-widgets/base",
          "model_name": "LayoutModel",
          "model_module_version": "1.2.0",
          "state": {
            "_model_module": "@jupyter-widgets/base",
            "_model_module_version": "1.2.0",
            "_model_name": "LayoutModel",
            "_view_count": null,
            "_view_module": "@jupyter-widgets/base",
            "_view_module_version": "1.2.0",
            "_view_name": "LayoutView",
            "align_content": null,
            "align_items": null,
            "align_self": null,
            "border": null,
            "bottom": null,
            "display": null,
            "flex": null,
            "flex_flow": null,
            "grid_area": null,
            "grid_auto_columns": null,
            "grid_auto_flow": null,
            "grid_auto_rows": null,
            "grid_column": null,
            "grid_gap": null,
            "grid_row": null,
            "grid_template_areas": null,
            "grid_template_columns": null,
            "grid_template_rows": null,
            "height": null,
            "justify_content": null,
            "justify_items": null,
            "left": null,
            "margin": null,
            "max_height": null,
            "max_width": null,
            "min_height": null,
            "min_width": null,
            "object_fit": null,
            "object_position": null,
            "order": null,
            "overflow": null,
            "overflow_x": null,
            "overflow_y": null,
            "padding": null,
            "right": null,
            "top": null,
            "visibility": null,
            "width": null
          }
        },
        "f19c5c31a7284f3d8bded4ace8843f56": {
          "model_module": "@jupyter-widgets/base",
          "model_name": "LayoutModel",
          "model_module_version": "1.2.0",
          "state": {
            "_model_module": "@jupyter-widgets/base",
            "_model_module_version": "1.2.0",
            "_model_name": "LayoutModel",
            "_view_count": null,
            "_view_module": "@jupyter-widgets/base",
            "_view_module_version": "1.2.0",
            "_view_name": "LayoutView",
            "align_content": null,
            "align_items": null,
            "align_self": null,
            "border": null,
            "bottom": null,
            "display": null,
            "flex": null,
            "flex_flow": null,
            "grid_area": null,
            "grid_auto_columns": null,
            "grid_auto_flow": null,
            "grid_auto_rows": null,
            "grid_column": null,
            "grid_gap": null,
            "grid_row": null,
            "grid_template_areas": null,
            "grid_template_columns": null,
            "grid_template_rows": null,
            "height": null,
            "justify_content": null,
            "justify_items": null,
            "left": null,
            "margin": null,
            "max_height": null,
            "max_width": null,
            "min_height": null,
            "min_width": null,
            "object_fit": null,
            "object_position": null,
            "order": null,
            "overflow": null,
            "overflow_x": null,
            "overflow_y": null,
            "padding": null,
            "right": null,
            "top": null,
            "visibility": null,
            "width": null
          }
        },
        "bf9af5a431e24de4a7b435325028fbd4": {
          "model_module": "@jupyter-widgets/controls",
          "model_name": "SliderStyleModel",
          "model_module_version": "1.5.0",
          "state": {
            "_model_module": "@jupyter-widgets/controls",
            "_model_module_version": "1.5.0",
            "_model_name": "SliderStyleModel",
            "_view_count": null,
            "_view_module": "@jupyter-widgets/base",
            "_view_module_version": "1.2.0",
            "_view_name": "StyleView",
            "description_width": "",
            "handle_color": null
          }
        },
        "3783464edbfe456a9684e73357dcff66": {
          "model_module": "@jupyter-widgets/base",
          "model_name": "LayoutModel",
          "model_module_version": "1.2.0",
          "state": {
            "_model_module": "@jupyter-widgets/base",
            "_model_module_version": "1.2.0",
            "_model_name": "LayoutModel",
            "_view_count": null,
            "_view_module": "@jupyter-widgets/base",
            "_view_module_version": "1.2.0",
            "_view_name": "LayoutView",
            "align_content": null,
            "align_items": null,
            "align_self": null,
            "border": null,
            "bottom": null,
            "display": null,
            "flex": null,
            "flex_flow": null,
            "grid_area": null,
            "grid_auto_columns": null,
            "grid_auto_flow": null,
            "grid_auto_rows": null,
            "grid_column": null,
            "grid_gap": null,
            "grid_row": null,
            "grid_template_areas": null,
            "grid_template_columns": null,
            "grid_template_rows": null,
            "height": null,
            "justify_content": null,
            "justify_items": null,
            "left": null,
            "margin": null,
            "max_height": null,
            "max_width": null,
            "min_height": null,
            "min_width": null,
            "object_fit": null,
            "object_position": null,
            "order": null,
            "overflow": null,
            "overflow_x": null,
            "overflow_y": null,
            "padding": null,
            "right": null,
            "top": null,
            "visibility": null,
            "width": null
          }
        }
      }
    }
  },
  "nbformat": 4,
  "nbformat_minor": 0
}