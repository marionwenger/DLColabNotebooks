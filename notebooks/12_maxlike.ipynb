{
  "cells": [
    {
      "cell_type": "markdown",
      "metadata": {
        "id": "view-in-github",
        "colab_type": "text"
      },
      "source": [
        "<a href=\"https://colab.research.google.com/github/marionwenger/DLColabNotebooks/blob/main/notebooks/12_maxlike.ipynb\" target=\"_parent\"><img src=\"https://colab.research.google.com/assets/colab-badge.svg\" alt=\"Open In Colab\"/></a>"
      ]
    },
    {
      "cell_type": "markdown",
      "metadata": {
        "id": "whgi7gogh-1J"
      },
      "source": [
        "# Maximum Likelihood\n",
        "## First example of the maximum likelihood principle: throwing a die\n",
        "\n",
        "\n",
        "**Goal:** In this notebook you will learn about the maximum likelihood principle.\n",
        "\n",
        "Learn about the maximum likelihood approach by doing a little die throwing experiment: First determine the number of upcoming dollar signs,  if you assume that you throw a die with a dollar-sign on one face. Then turn the game around and use the maximum likelihood principle to estimate the most likely number of faces with a dollar-sign on a die, if you observe for example 2 dollar signs in 10 throws.\n",
        "\n",
        "**Usage:** For additional Information read chapter 4 of the [Probabilistic Deeplearning book](https://www.manning.com/books/probabilistic-deep-learning?a_aid=probabilistic_deep_learning&a_bid=78e55885). The idea of the notebook is that you  getter a better understanding of the maximum likelihood principle by running the code, try understanding the code, checking the output, and playing with the notebook by slightly changing the code and rerunning it.\n",
        "\n",
        "**Content:**\n",
        "* calculate the probability of all possible numbers of successes in a binomial experiment\n",
        "* visualize the resulting binomial probability distribution\n",
        "* apply the maximum likelihood principle to estimate the parameter p of the binomial distribution\n"
      ]
    },
    {
      "cell_type": "code",
      "execution_count": 1,
      "metadata": {
        "id": "3rX6Znr2GQMh",
        "outputId": "02179b60-8b1e-43cd-ecf6-5fb83e776839",
        "colab": {
          "base_uri": "https://localhost:8080/"
        }
      },
      "outputs": [
        {
          "output_type": "stream",
          "name": "stdout",
          "text": [
            "Colab only includes TensorFlow 2.x; %tensorflow_version has no effect.\n"
          ]
        }
      ],
      "source": [
        "try: #If running in colab\n",
        "    import google.colab\n",
        "    IN_COLAB = True\n",
        "    %tensorflow_version 2.x\n",
        "except:\n",
        "    IN_COLAB = False"
      ]
    },
    {
      "cell_type": "code",
      "execution_count": 2,
      "metadata": {
        "id": "qmWNBQnTGQMn",
        "outputId": "e72e757e-7b3b-4d4d-f3c7-215487578d64",
        "colab": {
          "base_uri": "https://localhost:8080/"
        }
      },
      "outputs": [
        {
          "output_type": "stream",
          "name": "stdout",
          "text": [
            "Tensorflow version:  2.15.0  running in colab?:  True\n"
          ]
        }
      ],
      "source": [
        "import tensorflow as tf\n",
        "if (not tf.__version__.startswith('2')): #Checking if tf 2.0 is installed\n",
        "    print('Please install tensorflow 2.0 to run this notebook')\n",
        "print('Tensorflow version: ',tf.__version__, ' running in colab?: ', IN_COLAB)"
      ]
    },
    {
      "cell_type": "markdown",
      "metadata": {
        "id": "-uj4jX8a-U1i"
      },
      "source": [
        "#### Imports"
      ]
    },
    {
      "cell_type": "code",
      "execution_count": 3,
      "metadata": {
        "id": "LP57fRkISfkr"
      },
      "outputs": [],
      "source": [
        "#load required libraries:\n",
        "import numpy as np\n",
        "import matplotlib.pyplot as plt\n",
        "%matplotlib inline\n",
        "plt.style.use('default')"
      ]
    },
    {
      "cell_type": "code",
      "execution_count": 4,
      "metadata": {
        "id": "RW7gnZSFKdT9",
        "outputId": "1c2aa7d0-47e4-46ba-c1e4-67c1dc76cb35",
        "colab": {
          "base_uri": "https://localhost:8080/"
        }
      },
      "outputs": [
        {
          "output_type": "execute_result",
          "data": {
            "text/plain": [
              "(0.3230111657796916, 0.2907100492017224)"
            ]
          },
          "metadata": {},
          "execution_count": 4
        }
      ],
      "source": [
        "# Assume a die with only one face with a dollar sign\n",
        "# Calculate the probability to observe in 10 throws 1- or 2-times the $-sign\n",
        "# See book section 4.1\n",
        "10*(1/6)*(5/6)**9, 45*(1/6)**2*(5/6)**8"
      ]
    },
    {
      "cell_type": "markdown",
      "metadata": {
        "id": "mHaxN56BixUu"
      },
      "source": [
        "### Working with the binomial distribution\n",
        "\n",
        "You can work with the binomial distribution, to determine the probability to observe a certain number of the dollar-signs in 10 throws. The binomal distribution has two parameters: the number of tries n (here we have 10 throws of the die, hence n=10) and the probability for sucess in one try p (because we assume a fair die with a dollar-sign on one face we have p=1/6). To calculate the probability of k successes (observed dollar-signs) in n tries (throws) you can use the function *binom.pmf*. To visualize the probability distribution you determine the probability for 0, 1, 2, ...10 successes in ten tries and plot them versus the number of successes."
      ]
    },
    {
      "cell_type": "markdown",
      "metadata": {
        "id": "K9LsSvQHGaRt"
      },
      "source": [
        "#### Listing 4.1 The probability for 0 to 10 red throws using the binom function                                                                                                                                                                                                                       \n"
      ]
    },
    {
      "cell_type": "code",
      "execution_count": 5,
      "metadata": {
        "id": "Oi7Uc0EKHOWw",
        "outputId": "73556e6a-841f-4737-a02a-ac52f2ebe418",
        "colab": {
          "base_uri": "https://localhost:8080/",
          "height": 467
        }
      },
      "outputs": [
        {
          "output_type": "execute_result",
          "data": {
            "text/plain": [
              "Text(0, 0.5, 'Probability')"
            ]
          },
          "metadata": {},
          "execution_count": 5
        },
        {
          "output_type": "display_data",
          "data": {
            "text/plain": [
              "<Figure size 640x480 with 1 Axes>"
            ],
            "image/png": "[encoded data removed]"
          },
          "metadata": {}
        }
      ],
      "source": [
        "from scipy.stats import binom\n",
        "# Define the numbers of possible successes (0 to 10)\n",
        "ndollar = np.asarray(np.linspace(0,10,11), dtype='int')\n",
        "# Calculate the probability to get the different number of possible successes\n",
        "pdollar_sign = binom.pmf(k=ndollar, n=10, p=1/6)  # ich kenne Anzahl Seiten, hier = 1, ist fix, bei 10 Würfen wie wahrscheinlich x Dollarzeichen\n",
        "plt.stem(ndollar, pdollar_sign)\n",
        "plt.xlabel('Number of dollar signs')\n",
        "plt.ylabel('Probability')\n"
      ]
    },
    {
      "cell_type": "markdown",
      "metadata": {
        "id": "2pYBINcljmLM"
      },
      "source": [
        "### Exercise\n",
        "\n",
        "<img src=\"https://raw.githubusercontent.com/tensorchiefs/dl_book/master/imgs/paper-pen.png\" width=\"60\" align=\"left\" />  \n",
        "\n",
        "\n",
        "*Exercise: Let's assume you observed k=2 dollar signs in n=10 throws. What do you think - how many dollar-signs are on the thrown die?*\n",
        "\n",
        "Use the maximum likelihood approach to answer this question. To do so, follow the genius idea described in chapter 4.1 and determine the probability to observe 2 dollar-signs in 10 throws with the binomial distribution, when you assume that the die has a dollar-sign on 0,1,2 ..., or 6 faces. For which number of assumed dollar-signs on the die do you get the maximal likelihood?"
      ]
    },
    {
      "cell_type": "code",
      "execution_count": 6,
      "metadata": {
        "id": "KS8nYTL_k7gs"
      },
      "outputs": [],
      "source": [
        "# wir kennen den Parameter nicht\n",
        "# wir kennen nur das Ergebnis der 10 Würfe\n",
        "# umkehren: anstatt Daten zu variieren bei fixem Parameter\n",
        "# Wkeit für 2 von 10 ist bei Wkeit P für Dollar: (p)^2(1-p)^8=p^2-p^9 --> diesen Wert nun über P maximieren, das ist der max likelihood\n",
        "# d.h. 2p-9p^8 = 0, d.h. 2=9p^7, 1=4.5p^7, p = (1/4.5) siebte Wurzel...\n",
        "# müsste 2/10 d.h. 0.2 sein, es geht aber nur x/6, was ist am nächsten? 1/6...\n",
        "\n"
      ]
    },
    {
      "cell_type": "code",
      "source": [],
      "metadata": {
        "id": "KVUMUpf0yJRf"
      },
      "execution_count": null,
      "outputs": []
    },
    {
      "cell_type": "markdown",
      "metadata": {
        "id": "4PUhEbpflIRc"
      },
      "source": [
        "Scroll down after you finished the task\n",
        "\n",
        "</br>\n",
        "</br>\n",
        "</br>\n",
        "</br>\n",
        "</br>\n",
        "</br>\n",
        "</br>\n",
        "</br>\n",
        "</br>\n",
        "</br>\n",
        "</br>\n",
        "</br>\n",
        "</br>\n",
        "</br>\n",
        "</br>\n",
        "</br>\n",
        "</br>\n",
        "</br>\n",
        "</br>\n",
        "</br>\n",
        "</br>"
      ]
    },
    {
      "cell_type": "code",
      "execution_count": 7,
      "metadata": {
        "id": "Rmo-A74tPBY-",
        "outputId": "2abddcd7-2a0b-4db4-9be2-09fd85d7a205",
        "colab": {
          "base_uri": "https://localhost:8080/",
          "height": 490
        }
      },
      "outputs": [
        {
          "output_type": "execute_result",
          "data": {
            "text/plain": [
              "Text(0.5, 1.0, 'Unnormalized likelihoods')"
            ]
          },
          "metadata": {},
          "execution_count": 7
        },
        {
          "output_type": "display_data",
          "data": {
            "text/plain": [
              "<Figure size 640x480 with 1 Axes>"
            ],
            "image/png": "[encoded data removed]"
          },
          "metadata": {}
        }
      ],
      "source": [
        "# Solution\n",
        "from scipy.stats import binom\n",
        "# define the considered numbers of dollar signs on the die (zero to six):\n",
        "ndollar = np.asarray(np.linspace(0,6,7), dtype='int')\n",
        "# calculate the corresponding probability of getting 2 $-sings in 10 throws\n",
        "pdollar = binom.pmf(k=2, n=10, p=ndollar/6)           #B\n",
        "plt.stem(ndollar, pdollar)\n",
        "plt.xlabel('Number of dollar signs on the dice')\n",
        "plt.ylabel('Probability observing 2 dollar signs in 10 throws')\n",
        "plt.title('Unnormalized likelihoods')\n"
      ]
    }
  ],
  "metadata": {
    "colab": {
      "provenance": [],
      "include_colab_link": true
    },
    "kernelspec": {
      "display_name": "Python 3",
      "language": "python",
      "name": "python3"
    },
    "language_info": {
      "codemirror_mode": {
        "name": "ipython",
        "version": 3
      },
      "file_extension": ".py",
      "mimetype": "text/x-python",
      "name": "python",
      "nbconvert_exporter": "python",
      "pygments_lexer": "ipython3",
      "version": "3.6.8"
    }
  },
  "nbformat": 4,
  "nbformat_minor": 0
}